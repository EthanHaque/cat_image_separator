{
 "cells": [
  {
   "cell_type": "code",
   "execution_count": 48,
   "id": "unsigned-representation",
   "metadata": {},
   "outputs": [],
   "source": [
    "import tensorflow as tf\n",
    "from tensorflow.keras.preprocessing import image_dataset_from_directory\n",
    "\n",
    "from datetime import datetime\n",
    "import os\n",
    "import numpy as np"
   ]
  },
  {
   "cell_type": "code",
   "execution_count": 39,
   "id": "consistent-douglas",
   "metadata": {},
   "outputs": [
    {
     "name": "stdout",
     "output_type": "stream",
     "text": [
      "0:00:06.898791\n"
     ]
    }
   ],
   "source": [
    "startTime = datetime.now()\n",
    "\n",
    "model = tf.keras.models.load_model(\n",
    "    r'models\\inceptionResNetV2_optimized_h5\\inceptionResNetV2_optimized.h5')\n",
    "\n",
    "print(datetime.now() - startTime)"
   ]
  },
  {
   "cell_type": "code",
   "execution_count": 31,
   "id": "finnish-institution",
   "metadata": {},
   "outputs": [
    {
     "name": "stdout",
     "output_type": "stream",
     "text": [
      "Found 70 files belonging to 1 classes.\n",
      "0:00:42.680100\n",
      "[[ 0.86995316]\n",
      " [ 0.88697165]\n",
      " [ 1.1899074 ]\n",
      " [ 1.6530157 ]\n",
      " [ 1.5030593 ]\n",
      " [ 2.077906  ]\n",
      " [ 2.2705333 ]\n",
      " [ 2.1003952 ]\n",
      " [ 1.5185455 ]\n",
      " [ 1.4650887 ]\n",
      " [ 1.588049  ]\n",
      " [ 1.7662716 ]\n",
      " [ 1.4252589 ]\n",
      " [ 1.4406767 ]\n",
      " [ 1.427339  ]\n",
      " [ 1.6294404 ]\n",
      " [ 1.4477761 ]\n",
      " [ 1.7051752 ]\n",
      " [ 1.5081245 ]\n",
      " [ 1.6285839 ]\n",
      " [ 1.9838585 ]\n",
      " [ 1.7182087 ]\n",
      " [ 1.5898408 ]\n",
      " [ 2.9871228 ]\n",
      " [ 2.001856  ]\n",
      " [ 1.7191212 ]\n",
      " [ 1.7771101 ]\n",
      " [ 1.6637601 ]\n",
      " [ 1.9481169 ]\n",
      " [ 1.7986099 ]\n",
      " [ 1.9119525 ]\n",
      " [ 2.0331616 ]\n",
      " [ 3.3521085 ]\n",
      " [ 2.4406686 ]\n",
      " [-3.1396441 ]\n",
      " [-3.7271824 ]\n",
      " [-3.656498  ]\n",
      " [-3.7819932 ]\n",
      " [-3.858062  ]\n",
      " [ 1.7394081 ]\n",
      " [ 1.5794257 ]\n",
      " [ 1.4266616 ]\n",
      " [ 1.8168151 ]\n",
      " [ 2.0380285 ]\n",
      " [ 2.8240263 ]\n",
      " [ 3.4816265 ]\n",
      " [ 3.04588   ]\n",
      " [ 3.7526906 ]\n",
      " [ 2.5751588 ]\n",
      " [ 2.466085  ]\n",
      " [-2.926444  ]\n",
      " [-3.3370616 ]\n",
      " [-3.2504902 ]\n",
      " [-2.5488796 ]\n",
      " [-2.1937678 ]\n",
      " [ 0.32318142]\n",
      " [-1.2692497 ]\n",
      " [-2.8295178 ]\n",
      " [ 1.9522688 ]\n",
      " [ 0.5295288 ]\n",
      " [-4.1707907 ]\n",
      " [-4.116389  ]\n",
      " [-2.9963527 ]\n",
      " [-2.4232974 ]\n",
      " [-1.7686353 ]\n",
      " [-2.578695  ]\n",
      " [-3.5297523 ]\n",
      " [-3.6594033 ]\n",
      " [-2.7039251 ]\n",
      " [-3.0840786 ]]\n"
     ]
    }
   ],
   "source": [
    "startTime = datetime.now()\n",
    "path = r\"D:\\images\\camera_backups\\camera_backup_9_13_2020\"\n",
    "preditions = image_dataset_from_directory(path,\n",
    "                                          shuffle=False,\n",
    "                                          image_size=(299, 299))\n",
    "\n",
    "predictions = model.predict(preditions)\n",
    "print(datetime.now() - startTime)\n",
    "print(predictions)"
   ]
  },
  {
   "cell_type": "code",
   "execution_count": 32,
   "id": "ethical-contemporary",
   "metadata": {},
   "outputs": [
    {
     "name": "stdout",
     "output_type": "stream",
     "text": [
      "tf.Tensor(\n",
      "[[0.70473593]\n",
      " [0.7082648 ]\n",
      " [0.76672447]\n",
      " [0.83929825]\n",
      " [0.81803036]\n",
      " [0.88873714]\n",
      " [0.90640706]\n",
      " [0.8909416 ]\n",
      " [0.8203242 ]\n",
      " [0.81230974]\n",
      " [0.83034146]\n",
      " [0.8539934 ]\n",
      " [0.8061615 ]\n",
      " [0.8085594 ]\n",
      " [0.80648637]\n",
      " [0.83609295]\n",
      " [0.8096559 ]\n",
      " [0.84620947]\n",
      " [0.81878304]\n",
      " [0.8359755 ]\n",
      " [0.8790919 ]\n",
      " [0.847898  ]\n",
      " [0.8305937 ]\n",
      " [0.951989  ]\n",
      " [0.8809918 ]\n",
      " [0.84801567]\n",
      " [0.85533965]\n",
      " [0.8407421 ]\n",
      " [0.87524116]\n",
      " [0.85797966]\n",
      " [0.87123835]\n",
      " [0.8842351 ]\n",
      " [0.96617377]\n",
      " [0.9198764 ]\n",
      " [0.04150122]\n",
      " [0.02349523]\n",
      " [0.02517271]\n",
      " [0.02227002]\n",
      " [0.02067247]\n",
      " [0.8506119 ]\n",
      " [0.82912314]\n",
      " [0.8063806 ]\n",
      " [0.8601836 ]\n",
      " [0.88473237]\n",
      " [0.9439605 ]\n",
      " [0.9701604 ]\n",
      " [0.9546044 ]\n",
      " [0.97708297]\n",
      " [0.9292457 ]\n",
      " [0.9217298 ]\n",
      " [0.05086169]\n",
      " [0.03432143]\n",
      " [0.03730926]\n",
      " [0.07250181]\n",
      " [0.10031149]\n",
      " [0.5800994 ]\n",
      " [0.21938574]\n",
      " [0.05574974]\n",
      " [0.8756938 ]\n",
      " [0.6293732 ]\n",
      " [0.01520523]\n",
      " [0.01604176]\n",
      " [0.04759091]\n",
      " [0.08141336]\n",
      " [0.1457121 ]\n",
      " [0.07052219]\n",
      " [0.0284774 ]\n",
      " [0.02510157]\n",
      " [0.06274211]\n",
      " [0.04376882]], shape=(70, 1), dtype=float32)\n"
     ]
    }
   ],
   "source": [
    "predictions = tf.nn.sigmoid(predictions)\n",
    "print(predictions)\n",
    "predictions = tf.where(predictions < 0.5, 0, 1)"
   ]
  },
  {
   "cell_type": "code",
   "execution_count": 91,
   "id": "right-appearance",
   "metadata": {},
   "outputs": [],
   "source": [
    "paths = np.array(os.listdir(path+\"/1\"))\n",
    "values = predictions.numpy()"
   ]
  },
  {
   "cell_type": "code",
   "execution_count": null,
   "id": "forty-savannah",
   "metadata": {},
   "outputs": [],
   "source": []
  },
  {
   "cell_type": "code",
   "execution_count": 92,
   "id": "handed-japanese",
   "metadata": {},
   "outputs": [
    {
     "name": "stdout",
     "output_type": "stream",
     "text": [
      "Found 70 files belonging to 1 classes.\n"
     ]
    }
   ],
   "source": [
    "preditions = image_dataset_from_directory(path,\n",
    "                                          shuffle=False,\n",
    "                                          image_size=(299, 299))"
   ]
  },
  {
   "cell_type": "code",
   "execution_count": 93,
   "id": "focal-commander",
   "metadata": {},
   "outputs": [
    {
     "data": {
      "text/plain": [
       "<BatchDataset shapes: ((None, 299, 299, 3), (None,)), types: (tf.float32, tf.int32)>"
      ]
     },
     "execution_count": 93,
     "metadata": {},
     "output_type": "execute_result"
    }
   ],
   "source": [
    "preditions"
   ]
  },
  {
   "cell_type": "code",
   "execution_count": null,
   "id": "infrared-viewer",
   "metadata": {},
   "outputs": [],
   "source": []
  }
 ],
 "metadata": {
  "kernelspec": {
   "display_name": "Python [conda env:computer_vision] *",
   "language": "python",
   "name": "conda-env-computer_vision-py"
  },
  "language_info": {
   "codemirror_mode": {
    "name": "ipython",
    "version": 3
   },
   "file_extension": ".py",
   "mimetype": "text/x-python",
   "name": "python",
   "nbconvert_exporter": "python",
   "pygments_lexer": "ipython3",
   "version": "3.8.8"
  }
 },
 "nbformat": 4,
 "nbformat_minor": 5
}
